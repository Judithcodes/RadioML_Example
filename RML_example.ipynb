{
 "cells": [
  {
   "cell_type": "code",
   "execution_count": 3,
   "metadata": {},
   "outputs": [
    {
     "data": {
      "text/plain": [
       "('RML2016.10a.tar.bz2', <http.client.HTTPMessage at 0x7fc2e4665390>)"
      ]
     },
     "execution_count": 3,
     "metadata": {},
     "output_type": "execute_result"
    }
   ],
   "source": [
    "#Download the dataset from opensig\n",
    "import urllib.request\n",
    "urllib.request.urlretrieve('http://opendata.deepsig.io/datasets/2016.10/RML2016.10a.tar.bz2', 'RML2016.10a.tar.bz2')"
   ]
  },
  {
   "cell_type": "code",
   "execution_count": 4,
   "metadata": {},
   "outputs": [],
   "source": [
    "#decompress the .bz2 file into .tar file\n",
    "import sys\n",
    "import os\n",
    "import bz2\n",
    "\n",
    "zipfile = bz2.BZ2File('./RML2016.10a.tar.bz2') # open the file\n",
    "data = zipfile.read() # get the decompressed data"
   ]
  },
  {
   "cell_type": "code",
   "execution_count": 5,
   "metadata": {},
   "outputs": [
    {
     "data": {
      "text/plain": [
       "640952320"
      ]
     },
     "execution_count": 5,
     "metadata": {},
     "output_type": "execute_result"
    }
   ],
   "source": [
    "#write the .tar file\n",
    "open('./RML2016.10a.tar', 'wb').write(data) # write a uncompressed file"
   ]
  },
  {
   "cell_type": "code",
   "execution_count": 6,
   "metadata": {},
   "outputs": [],
   "source": [
    "#extract the .tar file\n",
    "import tarfile\n",
    "my_tar = tarfile.open('./RML2016.10a.tar')\n",
    "my_tar.extractall('./') # specify which folder to extract to\n",
    "my_tar.close()"
   ]
  },
  {
   "cell_type": "code",
   "execution_count": 8,
   "metadata": {},
   "outputs": [],
   "source": [
    "#extract the pickle file\n",
    "import pickle\n",
    "import numpy as np\n",
    "Xd = pickle.load(open(\"RML2016.10a_dict.pkl\",'rb'),encoding=\"bytes\")\n",
    "snrs,mods = map(lambda j: sorted(list(set(map(lambda x: x[j], Xd.keys())))), [1,0])\n",
    "X = []  \n",
    "lbl = []\n",
    "for mod in mods:\n",
    "    for snr in snrs:\n",
    "        X.append(Xd[(mod,snr)])\n",
    "        for i in range(Xd[(mod,snr)].shape[0]):  lbl.append((mod,snr))\n",
    "X = np.vstack(X)"
   ]
  },
  {
   "cell_type": "code",
   "execution_count": 14,
   "metadata": {},
   "outputs": [],
   "source": [
    "# Import all the things we need ---\n",
    "%matplotlib inline\n",
    "import random\n",
    "import tensorflow.keras.utils\n",
    "import tensorflow.keras.models as models\n",
    "from tensorflow.keras.layers import Reshape,Dense,Dropout,Activation,Flatten\n",
    "from tensorflow.keras.layers import GaussianNoise\n",
    "from tensorflow.keras.layers import Convolution2D, MaxPooling2D, ZeroPadding2D\n",
    "from tensorflow.keras.regularizers import *\n",
    "from tensorflow.keras.optimizers import *\n",
    "import matplotlib.pyplot as plt\n",
    "import seaborn as sns\n",
    "import tensorflow.keras"
   ]
  },
  {
   "cell_type": "code",
   "execution_count": 15,
   "metadata": {},
   "outputs": [],
   "source": [
    "# Partition the data\n",
    "#  into training and test sets of the form we can train/test on \n",
    "np.random.seed(2020)\n",
    "n_examples = X.shape[0]\n",
    "n_train = n_examples // 2\n",
    "train_idx = np.random.choice(range(0,n_examples), size=n_train, replace=False)\n",
    "test_idx = list(set(range(0,n_examples))-set(train_idx))\n",
    "X_train = X[train_idx]\n",
    "X_test =  X[test_idx]"
   ]
  },
  {
   "cell_type": "code",
   "execution_count": 35,
   "metadata": {},
   "outputs": [
    {
     "name": "stdout",
     "output_type": "stream",
     "text": [
      "[b'8PSK' b'AM-DSB' b'AM-SSB' b'BPSK' b'CPFSK' b'GFSK' b'PAM4' b'QAM16'\n",
      " b'QAM64' b'QPSK' b'WBFM']\n"
     ]
    }
   ],
   "source": [
    "#one-hot encoding the label\n",
    "from sklearn import preprocessing\n",
    "lb = preprocessing.LabelBinarizer()\n",
    "lb.fit(np.asarray(lbl)[:,0])\n",
    "print(lb.classes_)\n",
    "lbl_encoded=lb.transform(np.asarray(lbl)[:,0])\n",
    "y_train=lbl_encoded[train_idx]\n",
    "y_test=lbl_encoded[test_idx]"
   ]
  },
  {
   "cell_type": "code",
   "execution_count": 19,
   "metadata": {},
   "outputs": [
    {
     "name": "stdout",
     "output_type": "stream",
     "text": [
      "(110000, 2, 128) [2, 128]\n"
     ]
    }
   ],
   "source": [
    "in_shp = list(X_train.shape[1:])\n",
    "print(X_train.shape, in_shp)\n",
    "classes = mods"
   ]
  },
  {
   "cell_type": "code",
   "execution_count": 25,
   "metadata": {},
   "outputs": [
    {
     "name": "stdout",
     "output_type": "stream",
     "text": [
      "Model: \"sequential_6\"\n",
      "_________________________________________________________________\n",
      "Layer (type)                 Output Shape              Param #   \n",
      "=================================================================\n",
      "reshape_5 (Reshape)          (None, 1, 2, 128)         0         \n",
      "_________________________________________________________________\n",
      "zero_padding2d_8 (ZeroPaddin (None, 1, 6, 128)         0         \n",
      "_________________________________________________________________\n",
      "conv1 (Conv2D)               (None, 1, 2, 256)         33024     \n",
      "_________________________________________________________________\n",
      "dropout_6 (Dropout)          (None, 1, 2, 256)         0         \n",
      "_________________________________________________________________\n",
      "zero_padding2d_9 (ZeroPaddin (None, 1, 6, 256)         0         \n",
      "_________________________________________________________________\n",
      "conv2 (Conv2D)               (None, 1, 2, 80)          20560     \n",
      "_________________________________________________________________\n",
      "dropout_7 (Dropout)          (None, 1, 2, 80)          0         \n",
      "_________________________________________________________________\n",
      "flatten_2 (Flatten)          (None, 160)               0         \n",
      "_________________________________________________________________\n",
      "dense1 (Dense)               (None, 256)               41216     \n",
      "_________________________________________________________________\n",
      "dropout_8 (Dropout)          (None, 256)               0         \n",
      "_________________________________________________________________\n",
      "dense2 (Dense)               (None, 11)                2827      \n",
      "_________________________________________________________________\n",
      "activation (Activation)      (None, 11)                0         \n",
      "_________________________________________________________________\n",
      "reshape_6 (Reshape)          (None, 11)                0         \n",
      "=================================================================\n",
      "Total params: 97,627\n",
      "Trainable params: 97,627\n",
      "Non-trainable params: 0\n",
      "_________________________________________________________________\n"
     ]
    }
   ],
   "source": [
    "dr = 0.5 # dropout rate (%)\n",
    "model = models.Sequential()\n",
    "model.add(Reshape([1]+in_shp, input_shape=in_shp))\n",
    "model.add(ZeroPadding2D((0, 2)))\n",
    "model.add(Convolution2D(256, 1, 3, activation=\"relu\", name=\"conv1\"))\n",
    "model.add(Dropout(dr))\n",
    "model.add(ZeroPadding2D((0, 2)))\n",
    "model.add(Convolution2D(80, 1, 3, activation=\"relu\", name=\"conv2\"))\n",
    "model.add(Dropout(dr))\n",
    "model.add(Flatten())\n",
    "model.add(Dense(256, activation='relu', name=\"dense1\"))\n",
    "model.add(Dropout(dr))\n",
    "model.add(Dense( len(classes), name=\"dense2\" ))\n",
    "model.add(Activation('softmax'))\n",
    "model.add(Reshape([len(classes)]))\n",
    "model.compile(loss='categorical_crossentropy', optimizer='adam')\n",
    "model.summary()"
   ]
  },
  {
   "cell_type": "code",
   "execution_count": 26,
   "metadata": {},
   "outputs": [],
   "source": [
    "# Set up some params \n",
    "nb_epoch = 100     # number of epochs to train on\n",
    "batch_size = 1024  # training batch size"
   ]
  },
  {
   "cell_type": "code",
   "execution_count": 30,
   "metadata": {},
   "outputs": [
    {
     "name": "stdout",
     "output_type": "stream",
     "text": [
      "Train on 110000 samples, validate on 110000 samples\n",
      "Epoch 1/100\n",
      "110000/110000 - 15s - loss: 2.2894 - val_loss: 2.2247\n",
      "Epoch 2/100\n",
      "110000/110000 - 13s - loss: 2.2004 - val_loss: 2.0988\n",
      "Epoch 3/100\n",
      "110000/110000 - 13s - loss: 2.0397 - val_loss: 1.9446\n",
      "Epoch 4/100\n",
      "110000/110000 - 13s - loss: 1.9606 - val_loss: 1.8768\n",
      "Epoch 5/100\n",
      "110000/110000 - 13s - loss: 1.9094 - val_loss: 1.8274\n",
      "Epoch 6/100\n",
      "110000/110000 - 13s - loss: 1.8782 - val_loss: 1.8045\n",
      "Epoch 7/100\n",
      "110000/110000 - 13s - loss: 1.8631 - val_loss: 1.7910\n",
      "Epoch 8/100\n",
      "110000/110000 - 14s - loss: 1.8491 - val_loss: 1.7798\n",
      "Epoch 9/100\n",
      "110000/110000 - 13s - loss: 1.8401 - val_loss: 1.7711\n",
      "Epoch 10/100\n",
      "110000/110000 - 13s - loss: 1.8300 - val_loss: 1.7640\n",
      "Epoch 11/100\n",
      "110000/110000 - 13s - loss: 1.8227 - val_loss: 1.7630\n",
      "Epoch 12/100\n",
      "110000/110000 - 13s - loss: 1.8159 - val_loss: 1.7589\n",
      "Epoch 13/100\n",
      "110000/110000 - 13s - loss: 1.8115 - val_loss: 1.7460\n",
      "Epoch 14/100\n",
      "110000/110000 - 13s - loss: 1.8047 - val_loss: 1.7507\n",
      "Epoch 15/100\n",
      "110000/110000 - 13s - loss: 1.8010 - val_loss: 1.7445\n",
      "Epoch 16/100\n",
      "110000/110000 - 13s - loss: 1.7963 - val_loss: 1.7374\n",
      "Epoch 17/100\n",
      "110000/110000 - 13s - loss: 1.7932 - val_loss: 1.7454\n",
      "Epoch 18/100\n",
      "110000/110000 - 13s - loss: 1.7882 - val_loss: 1.7367\n",
      "Epoch 19/100\n",
      "110000/110000 - 12s - loss: 1.7856 - val_loss: 1.7352\n",
      "Epoch 20/100\n",
      "110000/110000 - 13s - loss: 1.7812 - val_loss: 1.7337\n",
      "Epoch 21/100\n",
      "110000/110000 - 13s - loss: 1.7813 - val_loss: 1.7320\n",
      "Epoch 22/100\n",
      "110000/110000 - 13s - loss: 1.7783 - val_loss: 1.7280\n",
      "Epoch 23/100\n",
      "110000/110000 - 13s - loss: 1.7752 - val_loss: 1.7284\n",
      "Epoch 24/100\n",
      "110000/110000 - 13s - loss: 1.7736 - val_loss: 1.7246\n",
      "Epoch 25/100\n",
      "110000/110000 - 13s - loss: 1.7678 - val_loss: 1.7259\n",
      "Epoch 26/100\n",
      "110000/110000 - 13s - loss: 1.7650 - val_loss: 1.7254\n",
      "Epoch 27/100\n",
      "110000/110000 - 13s - loss: 1.7639 - val_loss: 1.7211\n",
      "Epoch 28/100\n",
      "110000/110000 - 13s - loss: 1.7622 - val_loss: 1.7215\n",
      "Epoch 29/100\n",
      "110000/110000 - 13s - loss: 1.7590 - val_loss: 1.7186\n",
      "Epoch 30/100\n",
      "110000/110000 - 13s - loss: 1.7559 - val_loss: 1.7161\n",
      "Epoch 31/100\n",
      "110000/110000 - 14s - loss: 1.7534 - val_loss: 1.7148\n",
      "Epoch 32/100\n",
      "110000/110000 - 13s - loss: 1.7517 - val_loss: 1.7163\n",
      "Epoch 33/100\n",
      "110000/110000 - 13s - loss: 1.7496 - val_loss: 1.7177\n",
      "Epoch 34/100\n",
      "110000/110000 - 13s - loss: 1.7502 - val_loss: 1.7136\n",
      "Epoch 35/100\n",
      "110000/110000 - 13s - loss: 1.7445 - val_loss: 1.7111\n",
      "Epoch 36/100\n",
      "110000/110000 - 14s - loss: 1.7447 - val_loss: 1.7081\n",
      "Epoch 37/100\n",
      "110000/110000 - 13s - loss: 1.7421 - val_loss: 1.7083\n",
      "Epoch 38/100\n",
      "110000/110000 - 13s - loss: 1.7390 - val_loss: 1.7052\n",
      "Epoch 39/100\n",
      "110000/110000 - 13s - loss: 1.7395 - val_loss: 1.7094\n",
      "Epoch 40/100\n",
      "110000/110000 - 13s - loss: 1.7379 - val_loss: 1.7084\n",
      "Epoch 41/100\n",
      "110000/110000 - 13s - loss: 1.7347 - val_loss: 1.7066\n",
      "Epoch 42/100\n",
      "110000/110000 - 13s - loss: 1.7349 - val_loss: 1.7042\n",
      "Epoch 43/100\n",
      "110000/110000 - 13s - loss: 1.7328 - val_loss: 1.7012\n",
      "Epoch 44/100\n",
      "110000/110000 - 13s - loss: 1.7315 - val_loss: 1.7082\n",
      "Epoch 45/100\n",
      "110000/110000 - 13s - loss: 1.7310 - val_loss: 1.7026\n",
      "Epoch 46/100\n",
      "110000/110000 - 14s - loss: 1.7285 - val_loss: 1.7008\n",
      "Epoch 47/100\n",
      "110000/110000 - 13s - loss: 1.7253 - val_loss: 1.7000\n",
      "Epoch 48/100\n",
      "110000/110000 - 13s - loss: 1.7251 - val_loss: 1.7005\n",
      "Epoch 49/100\n",
      "110000/110000 - 13s - loss: 1.7222 - val_loss: 1.7041\n",
      "Epoch 50/100\n",
      "110000/110000 - 13s - loss: 1.7246 - val_loss: 1.6987\n",
      "Epoch 51/100\n",
      "110000/110000 - 13s - loss: 1.7209 - val_loss: 1.7028\n",
      "Epoch 52/100\n",
      "110000/110000 - 13s - loss: 1.7210 - val_loss: 1.6946\n",
      "Epoch 53/100\n",
      "110000/110000 - 13s - loss: 1.7179 - val_loss: 1.6963\n",
      "Epoch 54/100\n",
      "110000/110000 - 13s - loss: 1.7198 - val_loss: 1.6978\n",
      "Epoch 55/100\n",
      "110000/110000 - 13s - loss: 1.7210 - val_loss: 1.6973\n",
      "Epoch 56/100\n",
      "110000/110000 - 13s - loss: 1.7171 - val_loss: 1.6963\n",
      "Epoch 57/100\n",
      "110000/110000 - 13s - loss: 1.7159 - val_loss: 1.6989\n",
      "745.1611399650574\n"
     ]
    }
   ],
   "source": [
    "# perform training ...\n",
    "#   - call the main training loop in keras for our network+dataset\n",
    "filepath = 'convmodrecnets_CNN2_0.5.wts.h5'\n",
    "import time\n",
    "t_0=time.time()\n",
    "history = model.fit(X_train,\n",
    "    y_train,\n",
    "    batch_size=batch_size,\n",
    "    epochs=nb_epoch,\n",
    "    verbose=2,\n",
    "    validation_data=(X_test, y_test),\n",
    "    callbacks = [\n",
    "        tensorflow.keras.callbacks.ModelCheckpoint(filepath, monitor='val_loss', verbose=0, save_best_only=True, mode='auto'),\n",
    "        tensorflow.keras.callbacks.EarlyStopping(monitor='val_loss', patience=5, verbose=0, mode='auto')\n",
    "    ])\n",
    "delta_t=time.time()-t_0\n",
    "print(delta_t)\n",
    "# we re-load the best weights once training is finished\n",
    "model.load_weights(filepath)"
   ]
  },
  {
   "cell_type": "code",
   "execution_count": 31,
   "metadata": {},
   "outputs": [
    {
     "name": "stdout",
     "output_type": "stream",
     "text": [
      "1.6946204013304278\n"
     ]
    }
   ],
   "source": [
    "# Show simple version of performance\n",
    "score = model.evaluate(X_test, y_test, verbose=0, batch_size=batch_size)\n",
    "print(score)"
   ]
  },
  {
   "cell_type": "code",
   "execution_count": 32,
   "metadata": {},
   "outputs": [
    {
     "data": {
      "text/plain": [
       "<matplotlib.legend.Legend at 0x7fc22c5b5fd0>"
      ]
     },
     "execution_count": 32,
     "metadata": {},
     "output_type": "execute_result"
    },
    {
     "data": {
      "image/png": "[encoded data removed]",
      "text/plain": [
       "<Figure size 432x288 with 1 Axes>"
      ]
     },
     "metadata": {
      "needs_background": "light"
     },
     "output_type": "display_data"
    }
   ],
   "source": [
    "# Show loss curves \n",
    "plt.figure()\n",
    "plt.title('Training performance')\n",
    "plt.plot(history.epoch, history.history['loss'], label='train loss+error')\n",
    "plt.plot(history.epoch, history.history['val_loss'], label='val_error')\n",
    "plt.legend()"
   ]
  },
  {
   "cell_type": "code",
   "execution_count": 33,
   "metadata": {},
   "outputs": [],
   "source": [
    "def plot_confusion_matrix(cm, title='Confusion matrix', cmap=plt.cm.Blues, labels=[]):\n",
    "    plt.imshow(cm, interpolation='nearest', cmap=cmap)\n",
    "    plt.title(title)\n",
    "    plt.colorbar()\n",
    "    tick_marks = np.arange(len(labels))\n",
    "    plt.xticks(tick_marks, labels, rotation=45)\n",
    "    plt.yticks(tick_marks, labels)\n",
    "    plt.tight_layout()\n",
    "    plt.ylabel('True label')\n",
    "    plt.xlabel('Predicted label')"
   ]
  },
  {
   "cell_type": "code",
   "execution_count": 34,
   "metadata": {},
   "outputs": [
    {
     "data": {
      "image/png": "[encoded data removed]",
      "text/plain": [
       "<Figure size 432x288 with 2 Axes>"
      ]
     },
     "metadata": {
      "needs_background": "light"
     },
     "output_type": "display_data"
    }
   ],
   "source": [
    "# Plot confusion matrix\n",
    "test_Y_hat = model.predict(X_test, batch_size=batch_size)\n",
    "conf = np.zeros([len(classes),len(classes)])\n",
    "confnorm = np.zeros([len(classes),len(classes)])\n",
    "for i in range(0,X_test.shape[0]):\n",
    "    j = list(y_test[i,:]).index(1)\n",
    "    k = int(np.argmax(test_Y_hat[i,:]))\n",
    "    conf[j,k] = conf[j,k] + 1\n",
    "for i in range(0,len(classes)):\n",
    "    confnorm[i,:] = conf[i,:] / np.sum(conf[i,:])\n",
    "plot_confusion_matrix(confnorm, labels=classes)"
   ]
  }
 ],
 "metadata": {
  "kernelspec": {
   "display_name": "Python 3",
   "language": "python",
   "name": "python3"
  },
  "language_info": {
   "codemirror_mode": {
    "name": "ipython",
    "version": 3
   },
   "file_extension": ".py",
   "mimetype": "text/x-python",
   "name": "python",
   "nbconvert_exporter": "python",
   "pygments_lexer": "ipython3",
   "version": "3.7.3"
  }
 },
 "nbformat": 4,
 "nbformat_minor": 2
}
